{
 "cells": [
  {
   "cell_type": "code",
   "execution_count": 1,
   "metadata": {},
   "outputs": [],
   "source": [
    "import pandas as pd\n",
    "import numpy as np\n",
    "import matplotlib.pyplot as plt\n",
    "import seaborn as sns  #imported necessary libraries"
   ]
  },
  {
   "cell_type": "markdown",
   "metadata": {},
   "source": [
    "A business problem:\n",
    "The Waist Circumference – Adipose Tissue data\n",
    "•\tStudies have shown that individuals with excess Adipose tissue (AT) in the abdominal region have a higher risk of cardio-vascular diseases\n",
    "•\tComputed Tomography, commonly called the CT Scan is the only technique that allows for the precise and reliable measurement of the AT (at any site in the body)\n",
    "•\tThe problems with using the CT scan are:\n",
    "•\tMany physicians do not have access to this technology\n",
    "•\tIrradiation of the patient (suppresses the immune system)\n",
    "•\tExpensive\n",
    "•\tIs there a simpler yet reasonably accurate way to predict the AT area? i.e.,\n",
    "•\tEasily available\n",
    "•\tRisk free\n",
    "•\tInexpensive\n",
    "•\tA group of researchers conducted a study with the aim of predicting abdominal AT area using simple anthropometric measurements, i.e., measurements on the human body\n",
    "•\tThe Waist Circumference – Adipose Tissue data is a part of this study wherein the aim is to study how well waist circumference (WC) predicts the AT area\n"
   ]
  },
  {
   "cell_type": "code",
   "execution_count": 2,
   "metadata": {},
   "outputs": [
    {
     "data": {
      "text/html": [
       "<div>\n",
       "<style scoped>\n",
       "    .dataframe tbody tr th:only-of-type {\n",
       "        vertical-align: middle;\n",
       "    }\n",
       "\n",
       "    .dataframe tbody tr th {\n",
       "        vertical-align: top;\n",
       "    }\n",
       "\n",
       "    .dataframe thead th {\n",
       "        text-align: right;\n",
       "    }\n",
       "</style>\n",
       "<table border=\"1\" class=\"dataframe\">\n",
       "  <thead>\n",
       "    <tr style=\"text-align: right;\">\n",
       "      <th></th>\n",
       "      <th>Waist</th>\n",
       "      <th>AT</th>\n",
       "    </tr>\n",
       "  </thead>\n",
       "  <tbody>\n",
       "    <tr>\n",
       "      <th>0</th>\n",
       "      <td>74.75</td>\n",
       "      <td>25.72</td>\n",
       "    </tr>\n",
       "    <tr>\n",
       "      <th>1</th>\n",
       "      <td>72.60</td>\n",
       "      <td>25.89</td>\n",
       "    </tr>\n",
       "    <tr>\n",
       "      <th>2</th>\n",
       "      <td>81.80</td>\n",
       "      <td>42.60</td>\n",
       "    </tr>\n",
       "    <tr>\n",
       "      <th>3</th>\n",
       "      <td>83.95</td>\n",
       "      <td>42.80</td>\n",
       "    </tr>\n",
       "    <tr>\n",
       "      <th>4</th>\n",
       "      <td>74.65</td>\n",
       "      <td>29.84</td>\n",
       "    </tr>\n",
       "    <tr>\n",
       "      <th>...</th>\n",
       "      <td>...</td>\n",
       "      <td>...</td>\n",
       "    </tr>\n",
       "    <tr>\n",
       "      <th>104</th>\n",
       "      <td>100.10</td>\n",
       "      <td>124.00</td>\n",
       "    </tr>\n",
       "    <tr>\n",
       "      <th>105</th>\n",
       "      <td>93.30</td>\n",
       "      <td>62.20</td>\n",
       "    </tr>\n",
       "    <tr>\n",
       "      <th>106</th>\n",
       "      <td>101.80</td>\n",
       "      <td>133.00</td>\n",
       "    </tr>\n",
       "    <tr>\n",
       "      <th>107</th>\n",
       "      <td>107.90</td>\n",
       "      <td>208.00</td>\n",
       "    </tr>\n",
       "    <tr>\n",
       "      <th>108</th>\n",
       "      <td>108.50</td>\n",
       "      <td>208.00</td>\n",
       "    </tr>\n",
       "  </tbody>\n",
       "</table>\n",
       "<p>109 rows × 2 columns</p>\n",
       "</div>"
      ],
      "text/plain": [
       "      Waist      AT\n",
       "0     74.75   25.72\n",
       "1     72.60   25.89\n",
       "2     81.80   42.60\n",
       "3     83.95   42.80\n",
       "4     74.65   29.84\n",
       "..      ...     ...\n",
       "104  100.10  124.00\n",
       "105   93.30   62.20\n",
       "106  101.80  133.00\n",
       "107  107.90  208.00\n",
       "108  108.50  208.00\n",
       "\n",
       "[109 rows x 2 columns]"
      ]
     },
     "execution_count": 2,
     "metadata": {},
     "output_type": "execute_result"
    }
   ],
   "source": [
    "#loading data set\n",
    "wcat=pd.read_csv('E:\\SaiVenkat\\wc-at.csv')\n",
    "wcat"
   ]
  },
  {
   "cell_type": "code",
   "execution_count": 7,
   "metadata": {},
   "outputs": [
    {
     "name": "stdout",
     "output_type": "stream",
     "text": [
      "<class 'pandas.core.frame.DataFrame'>\n",
      "RangeIndex: 109 entries, 0 to 108\n",
      "Data columns (total 2 columns):\n",
      " #   Column  Non-Null Count  Dtype  \n",
      "---  ------  --------------  -----  \n",
      " 0   Waist   109 non-null    float64\n",
      " 1   AT      109 non-null    float64\n",
      "dtypes: float64(2)\n",
      "memory usage: 1.8 KB\n"
     ]
    }
   ],
   "source": [
    "wcat.info()"
   ]
  },
  {
   "cell_type": "code",
   "execution_count": 9,
   "metadata": {},
   "outputs": [
    {
     "data": {
      "text/plain": [
       "<matplotlib.collections.PathCollection at 0x2629fc87ee0>"
      ]
     },
     "execution_count": 9,
     "metadata": {},
     "output_type": "execute_result"
    },
    {
     "data": {
      "image/png": "[encoded data removed]",
      "text/plain": [
       "<Figure size 432x288 with 1 Axes>"
      ]
     },
     "metadata": {
      "needs_background": "light"
     },
     "output_type": "display_data"
    }
   ],
   "source": [
    "plt.scatter(wcat['Waist'],wcat['AT'],color='r')  #with the help of scatter plot found x and y are positively correlated"
   ]
  },
  {
   "cell_type": "code",
   "execution_count": 10,
   "metadata": {},
   "outputs": [
    {
     "data": {
      "text/html": [
       "<div>\n",
       "<style scoped>\n",
       "    .dataframe tbody tr th:only-of-type {\n",
       "        vertical-align: middle;\n",
       "    }\n",
       "\n",
       "    .dataframe tbody tr th {\n",
       "        vertical-align: top;\n",
       "    }\n",
       "\n",
       "    .dataframe thead th {\n",
       "        text-align: right;\n",
       "    }\n",
       "</style>\n",
       "<table border=\"1\" class=\"dataframe\">\n",
       "  <thead>\n",
       "    <tr style=\"text-align: right;\">\n",
       "      <th></th>\n",
       "      <th>Waist</th>\n",
       "      <th>AT</th>\n",
       "    </tr>\n",
       "  </thead>\n",
       "  <tbody>\n",
       "    <tr>\n",
       "      <th>Waist</th>\n",
       "      <td>1.000000</td>\n",
       "      <td>0.818558</td>\n",
       "    </tr>\n",
       "    <tr>\n",
       "      <th>AT</th>\n",
       "      <td>0.818558</td>\n",
       "      <td>1.000000</td>\n",
       "    </tr>\n",
       "  </tbody>\n",
       "</table>\n",
       "</div>"
      ],
      "text/plain": [
       "          Waist        AT\n",
       "Waist  1.000000  0.818558\n",
       "AT     0.818558  1.000000"
      ]
     },
     "execution_count": 10,
     "metadata": {},
     "output_type": "execute_result"
    }
   ],
   "source": [
    "wcat.corr() #checked correlation"
   ]
  },
  {
   "cell_type": "code",
   "execution_count": 11,
   "metadata": {},
   "outputs": [],
   "source": [
    "from sklearn.linear_model import LinearRegression  #imported LInearRegression "
   ]
  },
  {
   "cell_type": "code",
   "execution_count": 12,
   "metadata": {},
   "outputs": [
    {
     "data": {
      "text/html": [
       "<div>\n",
       "<style scoped>\n",
       "    .dataframe tbody tr th:only-of-type {\n",
       "        vertical-align: middle;\n",
       "    }\n",
       "\n",
       "    .dataframe tbody tr th {\n",
       "        vertical-align: top;\n",
       "    }\n",
       "\n",
       "    .dataframe thead th {\n",
       "        text-align: right;\n",
       "    }\n",
       "</style>\n",
       "<table border=\"1\" class=\"dataframe\">\n",
       "  <thead>\n",
       "    <tr style=\"text-align: right;\">\n",
       "      <th></th>\n",
       "      <th>Waist</th>\n",
       "      <th>AT</th>\n",
       "    </tr>\n",
       "  </thead>\n",
       "  <tbody>\n",
       "    <tr>\n",
       "      <th>0</th>\n",
       "      <td>74.75</td>\n",
       "      <td>25.72</td>\n",
       "    </tr>\n",
       "    <tr>\n",
       "      <th>1</th>\n",
       "      <td>72.60</td>\n",
       "      <td>25.89</td>\n",
       "    </tr>\n",
       "    <tr>\n",
       "      <th>2</th>\n",
       "      <td>81.80</td>\n",
       "      <td>42.60</td>\n",
       "    </tr>\n",
       "    <tr>\n",
       "      <th>3</th>\n",
       "      <td>83.95</td>\n",
       "      <td>42.80</td>\n",
       "    </tr>\n",
       "    <tr>\n",
       "      <th>4</th>\n",
       "      <td>74.65</td>\n",
       "      <td>29.84</td>\n",
       "    </tr>\n",
       "    <tr>\n",
       "      <th>...</th>\n",
       "      <td>...</td>\n",
       "      <td>...</td>\n",
       "    </tr>\n",
       "    <tr>\n",
       "      <th>104</th>\n",
       "      <td>100.10</td>\n",
       "      <td>124.00</td>\n",
       "    </tr>\n",
       "    <tr>\n",
       "      <th>105</th>\n",
       "      <td>93.30</td>\n",
       "      <td>62.20</td>\n",
       "    </tr>\n",
       "    <tr>\n",
       "      <th>106</th>\n",
       "      <td>101.80</td>\n",
       "      <td>133.00</td>\n",
       "    </tr>\n",
       "    <tr>\n",
       "      <th>107</th>\n",
       "      <td>107.90</td>\n",
       "      <td>208.00</td>\n",
       "    </tr>\n",
       "    <tr>\n",
       "      <th>108</th>\n",
       "      <td>108.50</td>\n",
       "      <td>208.00</td>\n",
       "    </tr>\n",
       "  </tbody>\n",
       "</table>\n",
       "<p>109 rows × 2 columns</p>\n",
       "</div>"
      ],
      "text/plain": [
       "      Waist      AT\n",
       "0     74.75   25.72\n",
       "1     72.60   25.89\n",
       "2     81.80   42.60\n",
       "3     83.95   42.80\n",
       "4     74.65   29.84\n",
       "..      ...     ...\n",
       "104  100.10  124.00\n",
       "105   93.30   62.20\n",
       "106  101.80  133.00\n",
       "107  107.90  208.00\n",
       "108  108.50  208.00\n",
       "\n",
       "[109 rows x 2 columns]"
      ]
     },
     "execution_count": 12,
     "metadata": {},
     "output_type": "execute_result"
    }
   ],
   "source": [
    "wcat"
   ]
  },
  {
   "cell_type": "code",
   "execution_count": 24,
   "metadata": {},
   "outputs": [
    {
     "data": {
      "text/plain": [
       "array([[ 74.75],\n",
       "       [ 72.6 ],\n",
       "       [ 81.8 ],\n",
       "       [ 83.95],\n",
       "       [ 74.65],\n",
       "       [ 71.85],\n",
       "       [ 80.9 ],\n",
       "       [ 83.4 ],\n",
       "       [ 63.5 ],\n",
       "       [ 73.2 ],\n",
       "       [ 71.9 ],\n",
       "       [ 75.  ],\n",
       "       [ 73.1 ],\n",
       "       [ 79.  ],\n",
       "       [ 77.  ],\n",
       "       [ 68.85],\n",
       "       [ 75.95],\n",
       "       [ 74.15],\n",
       "       [ 73.8 ],\n",
       "       [ 75.9 ],\n",
       "       [ 76.85],\n",
       "       [ 80.9 ],\n",
       "       [ 79.9 ],\n",
       "       [ 89.2 ],\n",
       "       [ 82.  ],\n",
       "       [ 92.  ],\n",
       "       [ 86.6 ],\n",
       "       [ 80.5 ],\n",
       "       [ 86.  ],\n",
       "       [ 82.5 ],\n",
       "       [ 83.5 ],\n",
       "       [ 88.1 ],\n",
       "       [ 90.8 ],\n",
       "       [ 89.4 ],\n",
       "       [102.  ],\n",
       "       [ 94.5 ],\n",
       "       [ 91.  ],\n",
       "       [103.  ],\n",
       "       [ 80.  ],\n",
       "       [ 79.  ],\n",
       "       [ 83.5 ],\n",
       "       [ 76.  ],\n",
       "       [ 80.5 ],\n",
       "       [ 86.5 ],\n",
       "       [ 83.  ],\n",
       "       [107.1 ],\n",
       "       [ 94.3 ],\n",
       "       [ 94.5 ],\n",
       "       [ 79.7 ],\n",
       "       [ 79.3 ],\n",
       "       [ 89.8 ],\n",
       "       [ 83.8 ],\n",
       "       [ 85.2 ],\n",
       "       [ 75.5 ],\n",
       "       [ 78.4 ],\n",
       "       [ 78.6 ],\n",
       "       [ 87.8 ],\n",
       "       [ 86.3 ],\n",
       "       [ 85.5 ],\n",
       "       [ 83.7 ],\n",
       "       [ 77.6 ],\n",
       "       [ 84.9 ],\n",
       "       [ 79.8 ],\n",
       "       [108.3 ],\n",
       "       [119.6 ],\n",
       "       [119.9 ],\n",
       "       [ 96.5 ],\n",
       "       [105.5 ],\n",
       "       [105.  ],\n",
       "       [107.  ],\n",
       "       [107.  ],\n",
       "       [101.  ],\n",
       "       [ 97.  ],\n",
       "       [100.  ],\n",
       "       [108.  ],\n",
       "       [100.  ],\n",
       "       [103.  ],\n",
       "       [104.  ],\n",
       "       [106.  ],\n",
       "       [109.  ],\n",
       "       [103.5 ],\n",
       "       [110.  ],\n",
       "       [110.  ],\n",
       "       [112.  ],\n",
       "       [108.5 ],\n",
       "       [104.  ],\n",
       "       [111.  ],\n",
       "       [108.5 ],\n",
       "       [121.  ],\n",
       "       [109.  ],\n",
       "       [ 97.5 ],\n",
       "       [105.5 ],\n",
       "       [ 98.  ],\n",
       "       [ 94.5 ],\n",
       "       [ 97.  ],\n",
       "       [105.  ],\n",
       "       [106.  ],\n",
       "       [ 99.  ],\n",
       "       [ 91.  ],\n",
       "       [102.5 ],\n",
       "       [106.  ],\n",
       "       [109.1 ],\n",
       "       [115.  ],\n",
       "       [101.  ],\n",
       "       [100.1 ],\n",
       "       [ 93.3 ],\n",
       "       [101.8 ],\n",
       "       [107.9 ],\n",
       "       [108.5 ]])"
      ]
     },
     "execution_count": 24,
     "metadata": {},
     "output_type": "execute_result"
    }
   ],
   "source": [
    "features=wcat.iloc[:,[0]].values\n",
    "features"
   ]
  },
  {
   "cell_type": "code",
   "execution_count": 23,
   "metadata": {},
   "outputs": [
    {
     "data": {
      "text/plain": [
       "array([[ 25.72],\n",
       "       [ 25.89],\n",
       "       [ 42.6 ],\n",
       "       [ 42.8 ],\n",
       "       [ 29.84],\n",
       "       [ 21.68],\n",
       "       [ 29.08],\n",
       "       [ 32.98],\n",
       "       [ 11.44],\n",
       "       [ 32.22],\n",
       "       [ 28.32],\n",
       "       [ 43.86],\n",
       "       [ 38.21],\n",
       "       [ 42.48],\n",
       "       [ 30.96],\n",
       "       [ 55.78],\n",
       "       [ 43.78],\n",
       "       [ 33.41],\n",
       "       [ 43.35],\n",
       "       [ 29.31],\n",
       "       [ 36.6 ],\n",
       "       [ 40.25],\n",
       "       [ 35.43],\n",
       "       [ 60.09],\n",
       "       [ 45.84],\n",
       "       [ 70.4 ],\n",
       "       [ 83.45],\n",
       "       [ 84.3 ],\n",
       "       [ 78.89],\n",
       "       [ 64.75],\n",
       "       [ 72.56],\n",
       "       [ 89.31],\n",
       "       [ 78.94],\n",
       "       [ 83.55],\n",
       "       [127.  ],\n",
       "       [121.  ],\n",
       "       [107.  ],\n",
       "       [129.  ],\n",
       "       [ 74.02],\n",
       "       [ 55.48],\n",
       "       [ 73.13],\n",
       "       [ 50.5 ],\n",
       "       [ 50.88],\n",
       "       [140.  ],\n",
       "       [ 96.54],\n",
       "       [118.  ],\n",
       "       [107.  ],\n",
       "       [123.  ],\n",
       "       [ 65.92],\n",
       "       [ 81.29],\n",
       "       [111.  ],\n",
       "       [ 90.73],\n",
       "       [133.  ],\n",
       "       [ 41.9 ],\n",
       "       [ 41.71],\n",
       "       [ 58.16],\n",
       "       [ 88.85],\n",
       "       [155.  ],\n",
       "       [ 70.77],\n",
       "       [ 75.08],\n",
       "       [ 57.05],\n",
       "       [ 99.73],\n",
       "       [ 27.96],\n",
       "       [123.  ],\n",
       "       [ 90.41],\n",
       "       [106.  ],\n",
       "       [144.  ],\n",
       "       [121.  ],\n",
       "       [ 97.13],\n",
       "       [166.  ],\n",
       "       [ 87.99],\n",
       "       [154.  ],\n",
       "       [100.  ],\n",
       "       [123.  ],\n",
       "       [217.  ],\n",
       "       [140.  ],\n",
       "       [109.  ],\n",
       "       [127.  ],\n",
       "       [112.  ],\n",
       "       [192.  ],\n",
       "       [132.  ],\n",
       "       [126.  ],\n",
       "       [153.  ],\n",
       "       [158.  ],\n",
       "       [183.  ],\n",
       "       [184.  ],\n",
       "       [121.  ],\n",
       "       [159.  ],\n",
       "       [245.  ],\n",
       "       [137.  ],\n",
       "       [165.  ],\n",
       "       [152.  ],\n",
       "       [181.  ],\n",
       "       [ 80.95],\n",
       "       [137.  ],\n",
       "       [125.  ],\n",
       "       [241.  ],\n",
       "       [134.  ],\n",
       "       [150.  ],\n",
       "       [198.  ],\n",
       "       [151.  ],\n",
       "       [229.  ],\n",
       "       [253.  ],\n",
       "       [188.  ],\n",
       "       [124.  ],\n",
       "       [ 62.2 ],\n",
       "       [133.  ],\n",
       "       [208.  ],\n",
       "       [208.  ]])"
      ]
     },
     "execution_count": 23,
     "metadata": {},
     "output_type": "execute_result"
    }
   ],
   "source": [
    "label=wcat.iloc[:,[1]].values\n",
    "label"
   ]
  },
  {
   "cell_type": "code",
   "execution_count": 25,
   "metadata": {},
   "outputs": [
    {
     "data": {
      "text/plain": [
       "LinearRegression()"
      ]
     },
     "execution_count": 25,
     "metadata": {},
     "output_type": "execute_result"
    }
   ],
   "source": [
    "model=LinearRegression()\n",
    "model.fit(features,label)"
   ]
  },
  {
   "cell_type": "code",
   "execution_count": 26,
   "metadata": {},
   "outputs": [
    {
     "data": {
      "text/plain": [
       "array([[ 42.56825159],\n",
       "       [ 35.1317039 ],\n",
       "       [ 66.95321031],\n",
       "       [ 74.389758  ],\n",
       "       [ 42.22236565],\n",
       "       [ 32.53755936],\n",
       "       [ 63.84023685],\n",
       "       [ 72.48738533],\n",
       "       [  3.65608343],\n",
       "       [ 37.20701954],\n",
       "       [ 32.71050233],\n",
       "       [ 43.43296644],\n",
       "       [ 36.8611336 ],\n",
       "       [ 57.26840401],\n",
       "       [ 50.35068522],\n",
       "       [ 22.16098118],\n",
       "       [ 46.71888286],\n",
       "       [ 40.49293596],\n",
       "       [ 39.28233517],\n",
       "       [ 46.54593989],\n",
       "       [ 49.83185632],\n",
       "       [ 63.84023685],\n",
       "       [ 60.38137746],\n",
       "       [ 92.54876981],\n",
       "       [ 67.64498219],\n",
       "       [102.23357611],\n",
       "       [ 83.55573539],\n",
       "       [ 62.4566931 ],\n",
       "       [ 81.48041975],\n",
       "       [ 69.37441188],\n",
       "       [ 72.83327127],\n",
       "       [ 88.74402448],\n",
       "       [ 98.08294484],\n",
       "       [ 93.24054169],\n",
       "       [136.82217003],\n",
       "       [110.88072459],\n",
       "       [ 98.77471671],\n",
       "       [140.28102942],\n",
       "       [ 60.7272634 ],\n",
       "       [ 57.26840401],\n",
       "       [ 72.83327127],\n",
       "       [ 46.89182583],\n",
       "       [ 62.4566931 ],\n",
       "       [ 83.20984945],\n",
       "       [ 71.10384158],\n",
       "       [154.46235293],\n",
       "       [110.18895271],\n",
       "       [110.88072459],\n",
       "       [ 59.68960558],\n",
       "       [ 58.30606183],\n",
       "       [ 94.62408544],\n",
       "       [ 73.87092909],\n",
       "       [ 78.71333224],\n",
       "       [ 45.16239614],\n",
       "       [ 55.19308837],\n",
       "       [ 55.88486025],\n",
       "       [ 87.70636666],\n",
       "       [ 82.51807757],\n",
       "       [ 79.75099006],\n",
       "       [ 73.52504315],\n",
       "       [ 52.42600086],\n",
       "       [ 77.67567442],\n",
       "       [ 60.03549152],\n",
       "       [158.6129842 ],\n",
       "       [197.69809533],\n",
       "       [198.73575314],\n",
       "       [117.79844337],\n",
       "       [148.9281779 ],\n",
       "       [147.1987482 ],\n",
       "       [154.11646699],\n",
       "       [154.11646699],\n",
       "       [133.36331063],\n",
       "       [119.52787307],\n",
       "       [129.90445124],\n",
       "       [157.57532638],\n",
       "       [129.90445124],\n",
       "       [140.28102942],\n",
       "       [143.73988881],\n",
       "       [150.65760759],\n",
       "       [161.03418577],\n",
       "       [142.01045911],\n",
       "       [164.49304516],\n",
       "       [164.49304516],\n",
       "       [171.41076395],\n",
       "       [159.30475607],\n",
       "       [143.73988881],\n",
       "       [167.95190455],\n",
       "       [159.30475607],\n",
       "       [202.54049847],\n",
       "       [161.03418577],\n",
       "       [121.25730276],\n",
       "       [148.9281779 ],\n",
       "       [122.98673246],\n",
       "       [110.88072459],\n",
       "       [119.52787307],\n",
       "       [147.1987482 ],\n",
       "       [150.65760759],\n",
       "       [126.44559185],\n",
       "       [ 98.77471671],\n",
       "       [138.55159972],\n",
       "       [150.65760759],\n",
       "       [161.38007171],\n",
       "       [181.78734212],\n",
       "       [133.36331063],\n",
       "       [130.25033718],\n",
       "       [106.73009332],\n",
       "       [136.13039815],\n",
       "       [157.22944044],\n",
       "       [159.30475607]])"
      ]
     },
     "execution_count": 26,
     "metadata": {},
     "output_type": "execute_result"
    }
   ],
   "source": [
    "model.predict(features)"
   ]
  },
  {
   "cell_type": "code",
   "execution_count": 28,
   "metadata": {},
   "outputs": [
    {
     "data": {
      "text/plain": [
       "array([[3.45885939]])"
      ]
     },
     "execution_count": 28,
     "metadata": {},
     "output_type": "execute_result"
    }
   ],
   "source": [
    "model.coef_"
   ]
  },
  {
   "cell_type": "code",
   "execution_count": 29,
   "metadata": {},
   "outputs": [
    {
     "data": {
      "text/plain": [
       "array([-215.98148796])"
      ]
     },
     "execution_count": 29,
     "metadata": {},
     "output_type": "execute_result"
    }
   ],
   "source": [
    "model.intercept_"
   ]
  },
  {
   "cell_type": "code",
   "execution_count": 34,
   "metadata": {},
   "outputs": [
    {
     "name": "stdout",
     "output_type": "stream",
     "text": [
      "R2 score value: 0.6700368930528429\n"
     ]
    }
   ],
   "source": [
    "print(\"R2 score value:\",model.score(features,label))"
   ]
  },
  {
   "cell_type": "code",
   "execution_count": 36,
   "metadata": {},
   "outputs": [
    {
     "data": {
      "text/html": [
       "<div>\n",
       "<style scoped>\n",
       "    .dataframe tbody tr th:only-of-type {\n",
       "        vertical-align: middle;\n",
       "    }\n",
       "\n",
       "    .dataframe tbody tr th {\n",
       "        vertical-align: top;\n",
       "    }\n",
       "\n",
       "    .dataframe thead th {\n",
       "        text-align: right;\n",
       "    }\n",
       "</style>\n",
       "<table border=\"1\" class=\"dataframe\">\n",
       "  <thead>\n",
       "    <tr style=\"text-align: right;\">\n",
       "      <th></th>\n",
       "      <th>Waist</th>\n",
       "      <th>AT</th>\n",
       "    </tr>\n",
       "  </thead>\n",
       "  <tbody>\n",
       "    <tr>\n",
       "      <th>0</th>\n",
       "      <td>74.75</td>\n",
       "      <td>25.72</td>\n",
       "    </tr>\n",
       "    <tr>\n",
       "      <th>1</th>\n",
       "      <td>72.60</td>\n",
       "      <td>25.89</td>\n",
       "    </tr>\n",
       "    <tr>\n",
       "      <th>2</th>\n",
       "      <td>81.80</td>\n",
       "      <td>42.60</td>\n",
       "    </tr>\n",
       "    <tr>\n",
       "      <th>3</th>\n",
       "      <td>83.95</td>\n",
       "      <td>42.80</td>\n",
       "    </tr>\n",
       "    <tr>\n",
       "      <th>4</th>\n",
       "      <td>74.65</td>\n",
       "      <td>29.84</td>\n",
       "    </tr>\n",
       "    <tr>\n",
       "      <th>...</th>\n",
       "      <td>...</td>\n",
       "      <td>...</td>\n",
       "    </tr>\n",
       "    <tr>\n",
       "      <th>104</th>\n",
       "      <td>100.10</td>\n",
       "      <td>124.00</td>\n",
       "    </tr>\n",
       "    <tr>\n",
       "      <th>105</th>\n",
       "      <td>93.30</td>\n",
       "      <td>62.20</td>\n",
       "    </tr>\n",
       "    <tr>\n",
       "      <th>106</th>\n",
       "      <td>101.80</td>\n",
       "      <td>133.00</td>\n",
       "    </tr>\n",
       "    <tr>\n",
       "      <th>107</th>\n",
       "      <td>107.90</td>\n",
       "      <td>208.00</td>\n",
       "    </tr>\n",
       "    <tr>\n",
       "      <th>108</th>\n",
       "      <td>108.50</td>\n",
       "      <td>208.00</td>\n",
       "    </tr>\n",
       "  </tbody>\n",
       "</table>\n",
       "<p>109 rows × 2 columns</p>\n",
       "</div>"
      ],
      "text/plain": [
       "      Waist      AT\n",
       "0     74.75   25.72\n",
       "1     72.60   25.89\n",
       "2     81.80   42.60\n",
       "3     83.95   42.80\n",
       "4     74.65   29.84\n",
       "..      ...     ...\n",
       "104  100.10  124.00\n",
       "105   93.30   62.20\n",
       "106  101.80  133.00\n",
       "107  107.90  208.00\n",
       "108  108.50  208.00\n",
       "\n",
       "[109 rows x 2 columns]"
      ]
     },
     "execution_count": 36,
     "metadata": {},
     "output_type": "execute_result"
    }
   ],
   "source": [
    "wcatn=wcat.copy()\n",
    "wcatn"
   ]
  },
  {
   "cell_type": "code",
   "execution_count": 38,
   "metadata": {},
   "outputs": [
    {
     "data": {
      "text/html": [
       "<div>\n",
       "<style scoped>\n",
       "    .dataframe tbody tr th:only-of-type {\n",
       "        vertical-align: middle;\n",
       "    }\n",
       "\n",
       "    .dataframe tbody tr th {\n",
       "        vertical-align: top;\n",
       "    }\n",
       "\n",
       "    .dataframe thead th {\n",
       "        text-align: right;\n",
       "    }\n",
       "</style>\n",
       "<table border=\"1\" class=\"dataframe\">\n",
       "  <thead>\n",
       "    <tr style=\"text-align: right;\">\n",
       "      <th></th>\n",
       "      <th>Waist</th>\n",
       "    </tr>\n",
       "  </thead>\n",
       "  <tbody>\n",
       "    <tr>\n",
       "      <th>0</th>\n",
       "      <td>1.873611</td>\n",
       "    </tr>\n",
       "    <tr>\n",
       "      <th>1</th>\n",
       "      <td>1.860937</td>\n",
       "    </tr>\n",
       "    <tr>\n",
       "      <th>2</th>\n",
       "      <td>1.912753</td>\n",
       "    </tr>\n",
       "    <tr>\n",
       "      <th>3</th>\n",
       "      <td>1.924021</td>\n",
       "    </tr>\n",
       "    <tr>\n",
       "      <th>4</th>\n",
       "      <td>1.873030</td>\n",
       "    </tr>\n",
       "    <tr>\n",
       "      <th>...</th>\n",
       "      <td>...</td>\n",
       "    </tr>\n",
       "    <tr>\n",
       "      <th>104</th>\n",
       "      <td>2.000434</td>\n",
       "    </tr>\n",
       "    <tr>\n",
       "      <th>105</th>\n",
       "      <td>1.969882</td>\n",
       "    </tr>\n",
       "    <tr>\n",
       "      <th>106</th>\n",
       "      <td>2.007748</td>\n",
       "    </tr>\n",
       "    <tr>\n",
       "      <th>107</th>\n",
       "      <td>2.033021</td>\n",
       "    </tr>\n",
       "    <tr>\n",
       "      <th>108</th>\n",
       "      <td>2.035430</td>\n",
       "    </tr>\n",
       "  </tbody>\n",
       "</table>\n",
       "<p>109 rows × 1 columns</p>\n",
       "</div>"
      ],
      "text/plain": [
       "        Waist\n",
       "0    1.873611\n",
       "1    1.860937\n",
       "2    1.912753\n",
       "3    1.924021\n",
       "4    1.873030\n",
       "..        ...\n",
       "104  2.000434\n",
       "105  1.969882\n",
       "106  2.007748\n",
       "107  2.033021\n",
       "108  2.035430\n",
       "\n",
       "[109 rows x 1 columns]"
      ]
     },
     "execution_count": 38,
     "metadata": {},
     "output_type": "execute_result"
    }
   ],
   "source": [
    "x=np.log10(wcatn.iloc[:,[0]])\n",
    "x"
   ]
  },
  {
   "cell_type": "code",
   "execution_count": 40,
   "metadata": {},
   "outputs": [
    {
     "data": {
      "text/html": [
       "<div>\n",
       "<style scoped>\n",
       "    .dataframe tbody tr th:only-of-type {\n",
       "        vertical-align: middle;\n",
       "    }\n",
       "\n",
       "    .dataframe tbody tr th {\n",
       "        vertical-align: top;\n",
       "    }\n",
       "\n",
       "    .dataframe thead th {\n",
       "        text-align: right;\n",
       "    }\n",
       "</style>\n",
       "<table border=\"1\" class=\"dataframe\">\n",
       "  <thead>\n",
       "    <tr style=\"text-align: right;\">\n",
       "      <th></th>\n",
       "      <th>AT</th>\n",
       "    </tr>\n",
       "  </thead>\n",
       "  <tbody>\n",
       "    <tr>\n",
       "      <th>0</th>\n",
       "      <td>3.247269</td>\n",
       "    </tr>\n",
       "    <tr>\n",
       "      <th>1</th>\n",
       "      <td>3.253857</td>\n",
       "    </tr>\n",
       "    <tr>\n",
       "      <th>2</th>\n",
       "      <td>3.751854</td>\n",
       "    </tr>\n",
       "    <tr>\n",
       "      <th>3</th>\n",
       "      <td>3.756538</td>\n",
       "    </tr>\n",
       "    <tr>\n",
       "      <th>4</th>\n",
       "      <td>3.395850</td>\n",
       "    </tr>\n",
       "    <tr>\n",
       "      <th>...</th>\n",
       "      <td>...</td>\n",
       "    </tr>\n",
       "    <tr>\n",
       "      <th>104</th>\n",
       "      <td>4.820282</td>\n",
       "    </tr>\n",
       "    <tr>\n",
       "      <th>105</th>\n",
       "      <td>4.130355</td>\n",
       "    </tr>\n",
       "    <tr>\n",
       "      <th>106</th>\n",
       "      <td>4.890349</td>\n",
       "    </tr>\n",
       "    <tr>\n",
       "      <th>107</th>\n",
       "      <td>5.337538</td>\n",
       "    </tr>\n",
       "    <tr>\n",
       "      <th>108</th>\n",
       "      <td>5.337538</td>\n",
       "    </tr>\n",
       "  </tbody>\n",
       "</table>\n",
       "<p>109 rows × 1 columns</p>\n",
       "</div>"
      ],
      "text/plain": [
       "           AT\n",
       "0    3.247269\n",
       "1    3.253857\n",
       "2    3.751854\n",
       "3    3.756538\n",
       "4    3.395850\n",
       "..        ...\n",
       "104  4.820282\n",
       "105  4.130355\n",
       "106  4.890349\n",
       "107  5.337538\n",
       "108  5.337538\n",
       "\n",
       "[109 rows x 1 columns]"
      ]
     },
     "execution_count": 40,
     "metadata": {},
     "output_type": "execute_result"
    }
   ],
   "source": [
    "y=np.log(wcatn.iloc[:,[1]])\n",
    "y"
   ]
  },
  {
   "cell_type": "code",
   "execution_count": 52,
   "metadata": {},
   "outputs": [
    {
     "data": {
      "text/html": [
       "<div>\n",
       "<style scoped>\n",
       "    .dataframe tbody tr th:only-of-type {\n",
       "        vertical-align: middle;\n",
       "    }\n",
       "\n",
       "    .dataframe tbody tr th {\n",
       "        vertical-align: top;\n",
       "    }\n",
       "\n",
       "    .dataframe thead th {\n",
       "        text-align: right;\n",
       "    }\n",
       "</style>\n",
       "<table border=\"1\" class=\"dataframe\">\n",
       "  <thead>\n",
       "    <tr style=\"text-align: right;\">\n",
       "      <th></th>\n",
       "      <th>Waist</th>\n",
       "      <th>AT</th>\n",
       "    </tr>\n",
       "  </thead>\n",
       "  <tbody>\n",
       "    <tr>\n",
       "      <th>0</th>\n",
       "      <td>1.873611</td>\n",
       "      <td>3.247269</td>\n",
       "    </tr>\n",
       "    <tr>\n",
       "      <th>1</th>\n",
       "      <td>1.860937</td>\n",
       "      <td>3.253857</td>\n",
       "    </tr>\n",
       "    <tr>\n",
       "      <th>2</th>\n",
       "      <td>1.912753</td>\n",
       "      <td>3.751854</td>\n",
       "    </tr>\n",
       "    <tr>\n",
       "      <th>3</th>\n",
       "      <td>1.924021</td>\n",
       "      <td>3.756538</td>\n",
       "    </tr>\n",
       "    <tr>\n",
       "      <th>4</th>\n",
       "      <td>1.873030</td>\n",
       "      <td>3.395850</td>\n",
       "    </tr>\n",
       "    <tr>\n",
       "      <th>...</th>\n",
       "      <td>...</td>\n",
       "      <td>...</td>\n",
       "    </tr>\n",
       "    <tr>\n",
       "      <th>104</th>\n",
       "      <td>2.000434</td>\n",
       "      <td>4.820282</td>\n",
       "    </tr>\n",
       "    <tr>\n",
       "      <th>105</th>\n",
       "      <td>1.969882</td>\n",
       "      <td>4.130355</td>\n",
       "    </tr>\n",
       "    <tr>\n",
       "      <th>106</th>\n",
       "      <td>2.007748</td>\n",
       "      <td>4.890349</td>\n",
       "    </tr>\n",
       "    <tr>\n",
       "      <th>107</th>\n",
       "      <td>2.033021</td>\n",
       "      <td>5.337538</td>\n",
       "    </tr>\n",
       "    <tr>\n",
       "      <th>108</th>\n",
       "      <td>2.035430</td>\n",
       "      <td>5.337538</td>\n",
       "    </tr>\n",
       "  </tbody>\n",
       "</table>\n",
       "<p>109 rows × 2 columns</p>\n",
       "</div>"
      ],
      "text/plain": [
       "        Waist        AT\n",
       "0    1.873611  3.247269\n",
       "1    1.860937  3.253857\n",
       "2    1.912753  3.751854\n",
       "3    1.924021  3.756538\n",
       "4    1.873030  3.395850\n",
       "..        ...       ...\n",
       "104  2.000434  4.820282\n",
       "105  1.969882  4.130355\n",
       "106  2.007748  4.890349\n",
       "107  2.033021  5.337538\n",
       "108  2.035430  5.337538\n",
       "\n",
       "[109 rows x 2 columns]"
      ]
     },
     "execution_count": 52,
     "metadata": {},
     "output_type": "execute_result"
    }
   ],
   "source": [
    "l=[x,y]\n",
    "wcatn1=pd.concat(l,axis=1)\n",
    "wcatn1"
   ]
  },
  {
   "cell_type": "code",
   "execution_count": 54,
   "metadata": {},
   "outputs": [
    {
     "data": {
      "text/plain": [
       "array([[1.8736112 ],\n",
       "       [1.86093662],\n",
       "       [1.9127533 ],\n",
       "       [1.9240207 ],\n",
       "       [1.87302981],\n",
       "       [1.85642677],\n",
       "       [1.90794852],\n",
       "       [1.92116605],\n",
       "       [1.80277373],\n",
       "       [1.86451108],\n",
       "       [1.85672889],\n",
       "       [1.87506126],\n",
       "       [1.86391738],\n",
       "       [1.89762709],\n",
       "       [1.88649073],\n",
       "       [1.83790394],\n",
       "       [1.88052778],\n",
       "       [1.87011116],\n",
       "       [1.86805636],\n",
       "       [1.88024178],\n",
       "       [1.88564387],\n",
       "       [1.90794852],\n",
       "       [1.90254678],\n",
       "       [1.95036485],\n",
       "       [1.91381385],\n",
       "       [1.96378783],\n",
       "       [1.93751789],\n",
       "       [1.90579588],\n",
       "       [1.93449845],\n",
       "       [1.91645395],\n",
       "       [1.92168648],\n",
       "       [1.94497591],\n",
       "       [1.95808585],\n",
       "       [1.95133752],\n",
       "       [2.00860017],\n",
       "       [1.97543181],\n",
       "       [1.95904139],\n",
       "       [2.01283722],\n",
       "       [1.90308999],\n",
       "       [1.89762709],\n",
       "       [1.92168648],\n",
       "       [1.88081359],\n",
       "       [1.90579588],\n",
       "       [1.93701611],\n",
       "       [1.91907809],\n",
       "       [2.02978947],\n",
       "       [1.97451169],\n",
       "       [1.97543181],\n",
       "       [1.90145832],\n",
       "       [1.89927319],\n",
       "       [1.95327634],\n",
       "       [1.92324402],\n",
       "       [1.93043959],\n",
       "       [1.87794695],\n",
       "       [1.89431606],\n",
       "       [1.89542255],\n",
       "       [1.94349452],\n",
       "       [1.9360108 ],\n",
       "       [1.93196611],\n",
       "       [1.92272546],\n",
       "       [1.88986172],\n",
       "       [1.92890769],\n",
       "       [1.90200289],\n",
       "       [2.03462846],\n",
       "       [2.07773118],\n",
       "       [2.07881918],\n",
       "       [1.98452731],\n",
       "       [2.02325246],\n",
       "       [2.0211893 ],\n",
       "       [2.02938378],\n",
       "       [2.02938378],\n",
       "       [2.00432137],\n",
       "       [1.98677173],\n",
       "       [2.        ],\n",
       "       [2.03342376],\n",
       "       [2.        ],\n",
       "       [2.01283722],\n",
       "       [2.01703334],\n",
       "       [2.02530587],\n",
       "       [2.0374265 ],\n",
       "       [2.01494035],\n",
       "       [2.04139269],\n",
       "       [2.04139269],\n",
       "       [2.04921802],\n",
       "       [2.03542974],\n",
       "       [2.01703334],\n",
       "       [2.04532298],\n",
       "       [2.03542974],\n",
       "       [2.08278537],\n",
       "       [2.0374265 ],\n",
       "       [1.98900462],\n",
       "       [2.02325246],\n",
       "       [1.99122608],\n",
       "       [1.97543181],\n",
       "       [1.98677173],\n",
       "       [2.0211893 ],\n",
       "       [2.02530587],\n",
       "       [1.99563519],\n",
       "       [1.95904139],\n",
       "       [2.01072387],\n",
       "       [2.02530587],\n",
       "       [2.03782475],\n",
       "       [2.06069784],\n",
       "       [2.00432137],\n",
       "       [2.00043408],\n",
       "       [1.96988164],\n",
       "       [2.00774778],\n",
       "       [2.03302144],\n",
       "       [2.03542974]])"
      ]
     },
     "execution_count": 54,
     "metadata": {},
     "output_type": "execute_result"
    }
   ],
   "source": [
    "feature1=wcatn1.iloc[:,[0]].values\n",
    "feature1"
   ]
  },
  {
   "cell_type": "code",
   "execution_count": 56,
   "metadata": {},
   "outputs": [
    {
     "data": {
      "text/plain": [
       "array([[3.2472689 ],\n",
       "       [3.25385679],\n",
       "       [3.75185425],\n",
       "       [3.7565381 ],\n",
       "       [3.39584978],\n",
       "       [3.07639018],\n",
       "       [3.37005065],\n",
       "       [3.49590132],\n",
       "       [2.43711599],\n",
       "       [3.47258738],\n",
       "       [3.34356827],\n",
       "       [3.78100274],\n",
       "       [3.64309726],\n",
       "       [3.74903338],\n",
       "       [3.43269605],\n",
       "       [4.02141538],\n",
       "       [3.77917709],\n",
       "       [3.50885526],\n",
       "       [3.7693067 ],\n",
       "       [3.37792875],\n",
       "       [3.60004824],\n",
       "       [3.69511   ],\n",
       "       [3.56755892],\n",
       "       [4.09584344],\n",
       "       [3.82515707],\n",
       "       [4.25419326],\n",
       "       [4.42424765],\n",
       "       [4.43438187],\n",
       "       [4.36805448],\n",
       "       [4.1705337 ],\n",
       "       [4.28441381],\n",
       "       [4.49211346],\n",
       "       [4.36868807],\n",
       "       [4.42544526],\n",
       "       [4.84418709],\n",
       "       [4.79579055],\n",
       "       [4.67282883],\n",
       "       [4.8598124 ],\n",
       "       [4.30433533],\n",
       "       [4.0160226 ],\n",
       "       [4.29223868],\n",
       "       [3.92197334],\n",
       "       [3.92946992],\n",
       "       [4.94164242],\n",
       "       [4.56995743],\n",
       "       [4.77068462],\n",
       "       [4.67282883],\n",
       "       [4.81218436],\n",
       "       [4.18844189],\n",
       "       [4.39802301],\n",
       "       [4.7095302 ],\n",
       "       [4.50788806],\n",
       "       [4.89034913],\n",
       "       [3.73528583],\n",
       "       [3.73074091],\n",
       "       [4.06319783],\n",
       "       [4.48694955],\n",
       "       [5.04342512],\n",
       "       [4.25943518],\n",
       "       [4.31855421],\n",
       "       [4.04392808],\n",
       "       [4.60246653],\n",
       "       [3.33077492],\n",
       "       [4.81218436],\n",
       "       [4.50435488],\n",
       "       [4.66343909],\n",
       "       [4.9698133 ],\n",
       "       [4.79579055],\n",
       "       [4.57605029],\n",
       "       [5.11198779],\n",
       "       [4.47722317],\n",
       "       [5.0369526 ],\n",
       "       [4.60517019],\n",
       "       [4.81218436],\n",
       "       [5.37989735],\n",
       "       [4.94164242],\n",
       "       [4.69134788],\n",
       "       [4.84418709],\n",
       "       [4.71849887],\n",
       "       [5.25749537],\n",
       "       [4.88280192],\n",
       "       [4.83628191],\n",
       "       [5.03043792],\n",
       "       [5.06259503],\n",
       "       [5.20948615],\n",
       "       [5.21493576],\n",
       "       [4.79579055],\n",
       "       [5.0689042 ],\n",
       "       [5.50125821],\n",
       "       [4.91998093],\n",
       "       [5.10594547],\n",
       "       [5.02388052],\n",
       "       [5.19849703],\n",
       "       [4.39383168],\n",
       "       [4.91998093],\n",
       "       [4.82831374],\n",
       "       [5.48479693],\n",
       "       [4.8978398 ],\n",
       "       [5.01063529],\n",
       "       [5.28826703],\n",
       "       [5.01727984],\n",
       "       [5.433722  ],\n",
       "       [5.53338949],\n",
       "       [5.23644196],\n",
       "       [4.82028157],\n",
       "       [4.130355  ],\n",
       "       [4.89034913],\n",
       "       [5.33753808],\n",
       "       [5.33753808]])"
      ]
     },
     "execution_count": 56,
     "metadata": {},
     "output_type": "execute_result"
    }
   ],
   "source": [
    "label1=wcatn1.iloc[:,[1]].values\n",
    "label1"
   ]
  },
  {
   "cell_type": "code",
   "execution_count": 58,
   "metadata": {},
   "outputs": [
    {
     "data": {
      "text/plain": [
       "LinearRegression()"
      ]
     },
     "execution_count": 58,
     "metadata": {},
     "output_type": "execute_result"
    }
   ],
   "source": [
    "model1=LinearRegression()\n",
    "model1.fit(feature1,label1)"
   ]
  },
  {
   "cell_type": "code",
   "execution_count": 60,
   "metadata": {},
   "outputs": [
    {
     "data": {
      "text/plain": [
       "array([[3.70686405],\n",
       "       [3.59749398],\n",
       "       [4.04462485],\n",
       "       [4.14185224],\n",
       "       [3.70184723],\n",
       "       [3.55857809],\n",
       "       [4.00316395],\n",
       "       [4.11721921],\n",
       "       [3.09560106],\n",
       "       [3.62833832],\n",
       "       [3.56118509],\n",
       "       [3.7193768 ],\n",
       "       [3.62321519],\n",
       "       [3.91409939],\n",
       "       [3.81800267],\n",
       "       [3.39874292],\n",
       "       [3.76654786],\n",
       "       [3.67666187],\n",
       "       [3.65893087],\n",
       "       [3.76407992],\n",
       "       [3.8106951 ],\n",
       "       [4.00316395],\n",
       "       [3.95655182],\n",
       "       [4.36917834],\n",
       "       [4.05377642],\n",
       "       [4.4850064 ],\n",
       "       [4.25832073],\n",
       "       [3.98458861],\n",
       "       [4.23226571],\n",
       "       [4.07655805],\n",
       "       [4.12171   ],\n",
       "       [4.32267664],\n",
       "       [4.4358035 ],\n",
       "       [4.37757155],\n",
       "       [4.87169619],\n",
       "       [4.58548337],\n",
       "       [4.44404898],\n",
       "       [4.90825811],\n",
       "       [3.96123921],\n",
       "       [3.91409939],\n",
       "       [4.12171   ],\n",
       "       [3.76901417],\n",
       "       [3.98458861],\n",
       "       [4.25399079],\n",
       "       [4.09920203],\n",
       "       [5.05454058],\n",
       "       [4.57754361],\n",
       "       [4.58548337],\n",
       "       [3.94715942],\n",
       "       [3.9283037 ],\n",
       "       [4.39430179],\n",
       "       [4.13515018],\n",
       "       [4.19724146],\n",
       "       [3.74427767],\n",
       "       [3.88552822],\n",
       "       [3.89507616],\n",
       "       [4.30989357],\n",
       "       [4.24531586],\n",
       "       [4.21041394],\n",
       "       [4.13067548],\n",
       "       [3.8470913 ],\n",
       "       [4.18402252],\n",
       "       [3.95185856],\n",
       "       [5.09629663],\n",
       "       [5.46823395],\n",
       "       [5.47762243],\n",
       "       [4.66396931],\n",
       "       [4.99813212],\n",
       "       [4.98032892],\n",
       "       [5.05103982],\n",
       "       [5.05103982],\n",
       "       [4.83477406],\n",
       "       [4.68333662],\n",
       "       [4.79748453],\n",
       "       [5.08590116],\n",
       "       [4.79748453],\n",
       "       [4.90825811],\n",
       "       [4.94446676],\n",
       "       [5.01585114],\n",
       "       [5.12044118],\n",
       "       [4.92640617],\n",
       "       [5.15466578],\n",
       "       [5.15466578],\n",
       "       [5.22219132],\n",
       "       [5.10321096],\n",
       "       [4.94446676],\n",
       "       [5.18858064],\n",
       "       [5.10321096],\n",
       "       [5.51184702],\n",
       "       [5.12044118],\n",
       "       [4.70260436],\n",
       "       [4.99813212],\n",
       "       [4.72177354],\n",
       "       [4.58548337],\n",
       "       [4.68333662],\n",
       "       [4.98032892],\n",
       "       [5.01585114],\n",
       "       [4.75982023],\n",
       "       [4.44404898],\n",
       "       [4.89002174],\n",
       "       [5.01585114],\n",
       "       [5.12387774],\n",
       "       [5.32125172],\n",
       "       [4.83477406],\n",
       "       [4.80123022],\n",
       "       [4.53759049],\n",
       "       [4.86434081],\n",
       "       [5.08242958],\n",
       "       [5.10321096]])"
      ]
     },
     "execution_count": 60,
     "metadata": {},
     "output_type": "execute_result"
    }
   ],
   "source": [
    "pred1=model1.predict(feature1)\n",
    "pred1"
   ]
  },
  {
   "cell_type": "code",
   "execution_count": 61,
   "metadata": {},
   "outputs": [
    {
     "name": "stdout",
     "output_type": "stream",
     "text": [
      "R2 score: 0.7348362767308201\n"
     ]
    }
   ],
   "source": [
    "print(\"R2 score:\",model1.score(feature1,label1))"
   ]
  },
  {
   "cell_type": "code",
   "execution_count": 62,
   "metadata": {},
   "outputs": [
    {
     "name": "stdout",
     "output_type": "stream",
     "text": [
      "Coefficient & intercept: [[8.62909098]] [-12.46069743]\n"
     ]
    }
   ],
   "source": [
    "print(\"Coefficient & intercept:\",model1.coef_,model1.intercept_)"
   ]
  },
  {
   "cell_type": "code",
   "execution_count": 68,
   "metadata": {},
   "outputs": [
    {
     "data": {
      "text/plain": [
       "<matplotlib.collections.PathCollection at 0x262a1042970>"
      ]
     },
     "execution_count": 68,
     "metadata": {},
     "output_type": "execute_result"
    },
    {
     "data": {
      "image/png": "[encoded data removed]",
      "text/plain": [
       "<Figure size 432x288 with 1 Axes>"
      ]
     },
     "metadata": {
      "needs_background": "light"
     },
     "output_type": "display_data"
    }
   ],
   "source": [
    "plt.scatter(pred1,pred1-label1,color='r')"
   ]
  },
  {
   "cell_type": "code",
   "execution_count": 70,
   "metadata": {},
   "outputs": [],
   "source": [
    "from sklearn.model_selection import train_test_split\n",
    "x_train,x_test,y_train,y_test=train_test_split(feature1,label1,test_size=0.2,random_state=30)"
   ]
  },
  {
   "cell_type": "code",
   "execution_count": 71,
   "metadata": {},
   "outputs": [
    {
     "data": {
      "text/plain": [
       "array([[1.99122608],\n",
       "       [2.04532298],\n",
       "       [2.02530587],\n",
       "       [2.08278537],\n",
       "       [2.0211893 ],\n",
       "       [1.92324402],\n",
       "       [2.02530587],\n",
       "       [1.88986172],\n",
       "       [1.90579588],\n",
       "       [1.94497591],\n",
       "       [1.85672889],\n",
       "       [2.02325246],\n",
       "       [1.87302981],\n",
       "       [2.03782475],\n",
       "       [2.0374265 ],\n",
       "       [2.0211893 ],\n",
       "       [2.04139269],\n",
       "       [2.03542974],\n",
       "       [2.00043408],\n",
       "       [1.98677173],\n",
       "       [2.02530587],\n",
       "       [1.93701611],\n",
       "       [2.00860017],\n",
       "       [2.02938378],\n",
       "       [1.91645395],\n",
       "       [1.92168648],\n",
       "       [1.88024178],\n",
       "       [2.03542974],\n",
       "       [1.88649073],\n",
       "       [1.93043959],\n",
       "       [1.93751789],\n",
       "       [1.99563519],\n",
       "       [1.85642677],\n",
       "       [1.90145832],\n",
       "       [1.89431606],\n",
       "       [1.96378783],\n",
       "       [1.92168648],\n",
       "       [1.90254678],\n",
       "       [1.95904139],\n",
       "       [1.98452731],\n",
       "       [1.97543181],\n",
       "       [1.94349452],\n",
       "       [2.03342376],\n",
       "       [1.86451108],\n",
       "       [1.89762709],\n",
       "       [2.02938378],\n",
       "       [2.03302144],\n",
       "       [1.91907809],\n",
       "       [1.9360108 ],\n",
       "       [1.93196611],\n",
       "       [1.93449845],\n",
       "       [1.89542255],\n",
       "       [1.95133752],\n",
       "       [1.95327634],\n",
       "       [1.89762709],\n",
       "       [2.00432137],\n",
       "       [1.83790394],\n",
       "       [1.87506126],\n",
       "       [2.01703334],\n",
       "       [2.07773118],\n",
       "       [1.97543181],\n",
       "       [2.01072387],\n",
       "       [1.90579588],\n",
       "       [1.90200289],\n",
       "       [1.90794852],\n",
       "       [1.88052778],\n",
       "       [2.01283722],\n",
       "       [1.98900462],\n",
       "       [1.86805636],\n",
       "       [1.97543181],\n",
       "       [1.92890769],\n",
       "       [1.96988164],\n",
       "       [1.89927319],\n",
       "       [2.07881918],\n",
       "       [1.92116605],\n",
       "       [1.88081359],\n",
       "       [1.9240207 ],\n",
       "       [1.97451169],\n",
       "       [1.87011116],\n",
       "       [1.87794695],\n",
       "       [1.9127533 ],\n",
       "       [1.95036485],\n",
       "       [1.86391738],\n",
       "       [2.00774778],\n",
       "       [2.02978947],\n",
       "       [2.03542974],\n",
       "       [2.01283722]])"
      ]
     },
     "execution_count": 71,
     "metadata": {},
     "output_type": "execute_result"
    }
   ],
   "source": [
    "x_train"
   ]
  },
  {
   "cell_type": "code",
   "execution_count": 72,
   "metadata": {},
   "outputs": [
    {
     "data": {
      "text/plain": [
       "array([[5.19849703],\n",
       "       [4.79579055],\n",
       "       [5.48479693],\n",
       "       [5.50125821],\n",
       "       [4.57605029],\n",
       "       [4.50788806],\n",
       "       [5.01727984],\n",
       "       [4.04392808],\n",
       "       [3.92946992],\n",
       "       [4.49211346],\n",
       "       [3.34356827],\n",
       "       [5.02388052],\n",
       "       [3.39584978],\n",
       "       [5.433722  ],\n",
       "       [5.25749537],\n",
       "       [4.82831374],\n",
       "       [4.83628191],\n",
       "       [5.0689042 ],\n",
       "       [4.82028157],\n",
       "       [4.60517019],\n",
       "       [4.71849887],\n",
       "       [4.94164242],\n",
       "       [4.84418709],\n",
       "       [5.11198779],\n",
       "       [4.1705337 ],\n",
       "       [4.28441381],\n",
       "       [3.37792875],\n",
       "       [5.20948615],\n",
       "       [3.43269605],\n",
       "       [4.89034913],\n",
       "       [4.42424765],\n",
       "       [4.8978398 ],\n",
       "       [3.07639018],\n",
       "       [4.18844189],\n",
       "       [3.73074091],\n",
       "       [4.25419326],\n",
       "       [4.29223868],\n",
       "       [3.56755892],\n",
       "       [4.67282883],\n",
       "       [4.9698133 ],\n",
       "       [4.81218436],\n",
       "       [4.48694955],\n",
       "       [5.37989735],\n",
       "       [3.47258738],\n",
       "       [4.0160226 ],\n",
       "       [4.47722317],\n",
       "       [5.33753808],\n",
       "       [4.56995743],\n",
       "       [5.04342512],\n",
       "       [4.25943518],\n",
       "       [4.36805448],\n",
       "       [4.06319783],\n",
       "       [4.42544526],\n",
       "       [4.7095302 ],\n",
       "       [3.74903338],\n",
       "       [5.23644196],\n",
       "       [4.02141538],\n",
       "       [3.78100274],\n",
       "       [5.21493576],\n",
       "       [4.50435488],\n",
       "       [4.39383168],\n",
       "       [5.28826703],\n",
       "       [4.43438187],\n",
       "       [3.33077492],\n",
       "       [3.37005065],\n",
       "       [3.77917709],\n",
       "       [4.69134788],\n",
       "       [5.10594547],\n",
       "       [3.7693067 ],\n",
       "       [4.79579055],\n",
       "       [4.60246653],\n",
       "       [4.130355  ],\n",
       "       [4.39802301],\n",
       "       [4.66343909],\n",
       "       [3.49590132],\n",
       "       [3.92197334],\n",
       "       [3.7565381 ],\n",
       "       [4.67282883],\n",
       "       [3.50885526],\n",
       "       [3.73528583],\n",
       "       [3.75185425],\n",
       "       [4.09584344],\n",
       "       [3.64309726],\n",
       "       [4.89034913],\n",
       "       [4.77068462],\n",
       "       [5.33753808],\n",
       "       [4.8598124 ]])"
      ]
     },
     "execution_count": 72,
     "metadata": {},
     "output_type": "execute_result"
    }
   ],
   "source": [
    "y_train"
   ]
  },
  {
   "cell_type": "code",
   "execution_count": 73,
   "metadata": {},
   "outputs": [
    {
     "data": {
      "text/plain": [
       "array([[1.86093662],\n",
       "       [1.8736112 ],\n",
       "       [2.01703334],\n",
       "       [1.80277373],\n",
       "       [2.06069784],\n",
       "       [1.88564387],\n",
       "       [1.95808585],\n",
       "       [1.98677173],\n",
       "       [2.04139269],\n",
       "       [1.91381385],\n",
       "       [2.03462846],\n",
       "       [2.        ],\n",
       "       [1.95904139],\n",
       "       [2.01494035],\n",
       "       [1.90308999],\n",
       "       [2.0374265 ],\n",
       "       [2.04921802],\n",
       "       [1.90794852],\n",
       "       [2.02325246],\n",
       "       [2.        ],\n",
       "       [1.92272546],\n",
       "       [2.00432137]])"
      ]
     },
     "execution_count": 73,
     "metadata": {},
     "output_type": "execute_result"
    }
   ],
   "source": [
    "x_test"
   ]
  },
  {
   "cell_type": "code",
   "execution_count": 74,
   "metadata": {},
   "outputs": [
    {
     "data": {
      "text/plain": [
       "array([[3.25385679],\n",
       "       [3.2472689 ],\n",
       "       [4.84418709],\n",
       "       [2.43711599],\n",
       "       [5.53338949],\n",
       "       [3.60004824],\n",
       "       [4.36868807],\n",
       "       [4.91998093],\n",
       "       [5.03043792],\n",
       "       [3.82515707],\n",
       "       [4.81218436],\n",
       "       [4.94164242],\n",
       "       [5.01063529],\n",
       "       [4.88280192],\n",
       "       [4.30433533],\n",
       "       [4.91998093],\n",
       "       [5.06259503],\n",
       "       [3.69511   ],\n",
       "       [4.79579055],\n",
       "       [4.81218436],\n",
       "       [4.31855421],\n",
       "       [5.0369526 ]])"
      ]
     },
     "execution_count": 74,
     "metadata": {},
     "output_type": "execute_result"
    }
   ],
   "source": [
    "y_test"
   ]
  },
  {
   "cell_type": "code",
   "execution_count": 76,
   "metadata": {},
   "outputs": [
    {
     "data": {
      "text/plain": [
       "LinearRegression()"
      ]
     },
     "execution_count": 76,
     "metadata": {},
     "output_type": "execute_result"
    }
   ],
   "source": [
    "model2=LinearRegression()\n",
    "model2.fit(x_train,y_train)"
   ]
  },
  {
   "cell_type": "code",
   "execution_count": 82,
   "metadata": {},
   "outputs": [
    {
     "name": "stdout",
     "output_type": "stream",
     "text": [
      "R2 score of training data: 0.6909992270645351\n"
     ]
    }
   ],
   "source": [
    "print(\"R2 score of training data:\",model2.score(x_train,y_train))"
   ]
  },
  {
   "cell_type": "code",
   "execution_count": 84,
   "metadata": {},
   "outputs": [
    {
     "name": "stdout",
     "output_type": "stream",
     "text": [
      "R2 score of Test data: 0.8400714896849156\n"
     ]
    }
   ],
   "source": [
    "print(\"R2 score of Test data:\",model2.score(x_test,y_test))"
   ]
  },
  {
   "cell_type": "code",
   "execution_count": 89,
   "metadata": {},
   "outputs": [
    {
     "data": {
      "text/plain": [
       "array([[3.40318044]])"
      ]
     },
     "execution_count": 89,
     "metadata": {},
     "output_type": "execute_result"
    }
   ],
   "source": [
    "model2.predict(np.array([[1.83]]))"
   ]
  },
  {
   "cell_type": "code",
   "execution_count": 93,
   "metadata": {},
   "outputs": [
    {
     "data": {
      "text/plain": [
       "<seaborn.axisgrid.FacetGrid at 0x262a4820a00>"
      ]
     },
     "execution_count": 93,
     "metadata": {},
     "output_type": "execute_result"
    },
    {
     "data": {
      "image/png": "[encoded data removed]",
      "text/plain": [
       "<Figure size 360x360 with 1 Axes>"
      ]
     },
     "metadata": {
      "needs_background": "light"
     },
     "output_type": "display_data"
    }
   ],
   "source": [
    "sns.lmplot(x='Waist',y='AT',data=wcatn1)"
   ]
  },
  {
   "cell_type": "code",
   "execution_count": 98,
   "metadata": {},
   "outputs": [
    {
     "data": {
      "text/plain": [
       "[<matplotlib.lines.Line2D at 0x262a43a4040>]"
      ]
     },
     "execution_count": 98,
     "metadata": {},
     "output_type": "execute_result"
    },
    {
     "data": {
      "image/png": "[encoded data removed]",
      "text/plain": [
       "<Figure size 432x288 with 1 Axes>"
      ]
     },
     "metadata": {
      "needs_background": "light"
     },
     "output_type": "display_data"
    }
   ],
   "source": [
    "plt.scatter(x_train,y_train,color='k')\n",
    "plt.plot(x_train,model2.predict(x_train),color='b')"
   ]
  },
  {
   "cell_type": "code",
   "execution_count": 101,
   "metadata": {},
   "outputs": [],
   "source": [
    "from sklearn.metrics import mean_squared_error,r2_score\n",
    "mse=mean_squared_error(y_train,model2.predict(x_train))\n",
    "r2sqr=r2_score(y_train,model2.predict(x_train))"
   ]
  },
  {
   "cell_type": "code",
   "execution_count": 103,
   "metadata": {},
   "outputs": [
    {
     "name": "stdout",
     "output_type": "stream",
     "text": [
      "MSE: 0.11681598281826386\n",
      "r2 Square: 0.6909992270645351\n"
     ]
    }
   ],
   "source": [
    "print(\"MSE:\",mse)\n",
    "print(\"r2 Square:\",r2sqr)"
   ]
  },
  {
   "cell_type": "code",
   "execution_count": 104,
   "metadata": {},
   "outputs": [
    {
     "data": {
      "text/plain": [
       "0.34178353210513795"
      ]
     },
     "execution_count": 104,
     "metadata": {},
     "output_type": "execute_result"
    }
   ],
   "source": [
    "np.sqrt(mse)"
   ]
  }
 ],
 "metadata": {
  "kernelspec": {
   "display_name": "Python 3",
   "language": "python",
   "name": "python3"
  },
  "language_info": {
   "codemirror_mode": {
    "name": "ipython",
    "version": 3
   },
   "file_extension": ".py",
   "mimetype": "text/x-python",
   "name": "python",
   "nbconvert_exporter": "python",
   "pygments_lexer": "ipython3",
   "version": "3.8.3"
  }
 },
 "nbformat": 4,
 "nbformat_minor": 4
}
