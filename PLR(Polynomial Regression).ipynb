{
 "cells": [
  {
   "cell_type": "code",
   "execution_count": 1,
   "metadata": {},
   "outputs": [],
   "source": [
    "import pandas as pd\n",
    "import numpy as np\n",
    "import matplotlib.pyplot as plt\n",
    "\n",
    "import seaborn as sns"
   ]
  },
  {
   "cell_type": "code",
   "execution_count": 2,
   "metadata": {},
   "outputs": [],
   "source": [
    "m=100\n",
    "x=np.random.rand(m,1)+3\n",
    "y=0.5 * x**2 + x + 2 + np.random.randn(m, 1)+6"
   ]
  },
  {
   "cell_type": "code",
   "execution_count": 3,
   "metadata": {},
   "outputs": [],
   "source": [
    "from sklearn.preprocessing import PolynomialFeatures\n",
    "from sklearn.linear_model import LinearRegression\n",
    "from sklearn.metrics import mean_squared_error,r2_score"
   ]
  },
  {
   "cell_type": "code",
   "execution_count": 4,
   "metadata": {},
   "outputs": [
    {
     "data": {
      "text/plain": [
       "<matplotlib.collections.PathCollection at 0x1ddc885a130>"
      ]
     },
     "execution_count": 4,
     "metadata": {},
     "output_type": "execute_result"
    },
    {
     "data": {
      "image/png": "[encoded data removed]",
      "text/plain": [
       "<Figure size 432x288 with 1 Axes>"
      ]
     },
     "metadata": {
      "needs_background": "light"
     },
     "output_type": "display_data"
    }
   ],
   "source": [
    "plt.scatter(x,y,color='r')"
   ]
  },
  {
   "cell_type": "code",
   "execution_count": 5,
   "metadata": {},
   "outputs": [
    {
     "data": {
      "text/plain": [
       "LinearRegression()"
      ]
     },
     "execution_count": 5,
     "metadata": {},
     "output_type": "execute_result"
    }
   ],
   "source": [
    "regressor=LinearRegression()\n",
    "regressor.fit(x,y)"
   ]
  },
  {
   "cell_type": "code",
   "execution_count": 6,
   "metadata": {},
   "outputs": [
    {
     "data": {
      "text/plain": [
       "array([[16.47495641],\n",
       "       [15.47433338],\n",
       "       [19.06009959],\n",
       "       [16.61499742],\n",
       "       [16.22018456],\n",
       "       [16.57731977],\n",
       "       [19.93910016],\n",
       "       [18.71109494],\n",
       "       [18.83411613],\n",
       "       [16.08558281],\n",
       "       [16.76619286],\n",
       "       [17.98405673],\n",
       "       [19.16474561],\n",
       "       [19.79187989],\n",
       "       [17.4964339 ],\n",
       "       [16.12495325],\n",
       "       [15.47710486],\n",
       "       [15.91886093],\n",
       "       [19.73785877],\n",
       "       [17.24624422],\n",
       "       [15.60513716],\n",
       "       [16.21301117],\n",
       "       [16.26400117],\n",
       "       [19.21014329],\n",
       "       [15.83205775],\n",
       "       [15.96464939],\n",
       "       [16.50518851],\n",
       "       [17.26837143],\n",
       "       [16.43424667],\n",
       "       [17.58456308],\n",
       "       [16.83950764],\n",
       "       [18.02565334],\n",
       "       [17.03966155],\n",
       "       [19.3951654 ],\n",
       "       [17.42481776],\n",
       "       [19.63993002],\n",
       "       [19.66784741],\n",
       "       [17.76729035],\n",
       "       [19.43915852],\n",
       "       [19.32231373],\n",
       "       [17.98104262],\n",
       "       [19.87944618],\n",
       "       [18.38689946],\n",
       "       [18.37589587],\n",
       "       [16.63234929],\n",
       "       [17.08101083],\n",
       "       [15.46581871],\n",
       "       [18.73759564],\n",
       "       [19.41456799],\n",
       "       [19.93275006],\n",
       "       [17.45121559],\n",
       "       [18.27885681],\n",
       "       [19.90454859],\n",
       "       [19.28526364],\n",
       "       [16.14530254],\n",
       "       [18.12111723],\n",
       "       [15.54806394],\n",
       "       [16.24057991],\n",
       "       [16.53036468],\n",
       "       [15.89138421],\n",
       "       [17.08627726],\n",
       "       [18.10648311],\n",
       "       [15.85636895],\n",
       "       [19.91796217],\n",
       "       [16.83537088],\n",
       "       [18.7868537 ],\n",
       "       [18.37386814],\n",
       "       [19.33181301],\n",
       "       [19.45228002],\n",
       "       [16.65280427],\n",
       "       [17.12972969],\n",
       "       [17.94426123],\n",
       "       [19.16487817],\n",
       "       [18.20667034],\n",
       "       [17.20181874],\n",
       "       [19.29887746],\n",
       "       [16.10428626],\n",
       "       [15.92372796],\n",
       "       [19.76450484],\n",
       "       [15.4911033 ],\n",
       "       [16.46215867],\n",
       "       [16.92008977],\n",
       "       [17.12896623],\n",
       "       [15.83239269],\n",
       "       [19.05970137],\n",
       "       [18.06797745],\n",
       "       [15.79607323],\n",
       "       [19.68566676],\n",
       "       [17.21515281],\n",
       "       [19.23326611],\n",
       "       [17.52950118],\n",
       "       [17.77097623],\n",
       "       [17.72093197],\n",
       "       [16.28124537],\n",
       "       [17.41996283],\n",
       "       [17.25089286],\n",
       "       [19.44229675],\n",
       "       [16.0689094 ],\n",
       "       [17.41289128],\n",
       "       [17.58437379]])"
      ]
     },
     "execution_count": 6,
     "metadata": {},
     "output_type": "execute_result"
    }
   ],
   "source": [
    "pred=regressor.predict(x)\n",
    "pred"
   ]
  },
  {
   "cell_type": "code",
   "execution_count": 14,
   "metadata": {},
   "outputs": [
    {
     "data": {
      "text/plain": [
       "array([[16.88921188],\n",
       "       [15.68317045],\n",
       "       [18.92398934],\n",
       "       [15.92754401],\n",
       "       [16.31892455],\n",
       "       [15.50697446],\n",
       "       [20.9933209 ],\n",
       "       [17.79602156],\n",
       "       [19.25255413],\n",
       "       [17.15569383],\n",
       "       [16.07266288],\n",
       "       [18.91685026],\n",
       "       [19.6817557 ],\n",
       "       [18.60855936],\n",
       "       [20.04183771],\n",
       "       [15.43246365],\n",
       "       [15.61699097],\n",
       "       [14.00753908],\n",
       "       [18.84918749],\n",
       "       [16.35223547],\n",
       "       [15.86143744],\n",
       "       [15.47444295],\n",
       "       [15.22051885],\n",
       "       [19.10928472],\n",
       "       [16.8772285 ],\n",
       "       [16.46685928],\n",
       "       [15.92360282],\n",
       "       [16.39699487],\n",
       "       [16.87297725],\n",
       "       [16.21100535],\n",
       "       [18.5427791 ],\n",
       "       [17.52778107],\n",
       "       [18.11380314],\n",
       "       [19.08978111],\n",
       "       [16.09974843],\n",
       "       [19.77151231],\n",
       "       [19.94907756],\n",
       "       [19.94723742],\n",
       "       [19.40944056],\n",
       "       [19.843852  ],\n",
       "       [18.11250699],\n",
       "       [18.80619238],\n",
       "       [18.25567323],\n",
       "       [19.42755289],\n",
       "       [16.22538935],\n",
       "       [17.33919189],\n",
       "       [15.508423  ],\n",
       "       [18.86269118],\n",
       "       [19.24429512],\n",
       "       [19.83349177],\n",
       "       [16.94184605],\n",
       "       [17.95059181],\n",
       "       [19.32155746],\n",
       "       [18.49216958],\n",
       "       [15.83945808],\n",
       "       [18.57834011],\n",
       "       [14.96294483],\n",
       "       [16.83396968],\n",
       "       [16.79408049],\n",
       "       [15.58748522],\n",
       "       [15.91935246],\n",
       "       [16.52789762],\n",
       "       [16.26930543],\n",
       "       [18.63804733],\n",
       "       [17.24472124],\n",
       "       [18.76140434],\n",
       "       [18.7501199 ],\n",
       "       [18.70033432],\n",
       "       [19.75648131],\n",
       "       [16.19263115],\n",
       "       [16.54220879],\n",
       "       [19.44162592],\n",
       "       [19.91753625],\n",
       "       [18.24550018],\n",
       "       [17.23184101],\n",
       "       [19.40367039],\n",
       "       [15.11881421],\n",
       "       [16.92118205],\n",
       "       [20.90581378],\n",
       "       [16.37825889],\n",
       "       [16.01534504],\n",
       "       [15.10007656],\n",
       "       [17.12623128],\n",
       "       [15.50780827],\n",
       "       [18.89596034],\n",
       "       [18.96931724],\n",
       "       [15.74545773],\n",
       "       [21.21123779],\n",
       "       [18.92101309],\n",
       "       [18.75339167],\n",
       "       [18.30919709],\n",
       "       [18.66012383],\n",
       "       [18.35002741],\n",
       "       [15.93443192],\n",
       "       [17.97067727],\n",
       "       [17.21731671],\n",
       "       [18.17688516],\n",
       "       [15.1895015 ],\n",
       "       [18.77408293],\n",
       "       [17.59073871]])"
      ]
     },
     "execution_count": 14,
     "metadata": {},
     "output_type": "execute_result"
    }
   ],
   "source": [
    "y"
   ]
  },
  {
   "cell_type": "code",
   "execution_count": 15,
   "metadata": {},
   "outputs": [
    {
     "data": {
      "text/plain": [
       "[<matplotlib.lines.Line2D at 0x1ddc9cdc3a0>]"
      ]
     },
     "execution_count": 15,
     "metadata": {},
     "output_type": "execute_result"
    },
    {
     "data": {
      "image/png": "[encoded data removed]",
      "text/plain": [
       "<Figure size 432x288 with 1 Axes>"
      ]
     },
     "metadata": {
      "needs_background": "light"
     },
     "output_type": "display_data"
    }
   ],
   "source": [
    "plt.scatter(x,y,color='r')\n",
    "plt.plot(x,pred,color='g')"
   ]
  },
  {
   "cell_type": "code",
   "execution_count": 17,
   "metadata": {},
   "outputs": [],
   "source": [
    "poly=PolynomialFeatures(degree=4,include_bias=False)\n",
    "x_poly=poly.fit_transform(x)"
   ]
  },
  {
   "cell_type": "code",
   "execution_count": 18,
   "metadata": {},
   "outputs": [
    {
     "data": {
      "text/plain": [
       "PolynomialFeatures(degree=4, include_bias=False)"
      ]
     },
     "execution_count": 18,
     "metadata": {},
     "output_type": "execute_result"
    }
   ],
   "source": [
    "poly.fit(x_poly,y)"
   ]
  },
  {
   "cell_type": "code",
   "execution_count": 19,
   "metadata": {},
   "outputs": [
    {
     "data": {
      "text/plain": [
       "LinearRegression()"
      ]
     },
     "execution_count": 19,
     "metadata": {},
     "output_type": "execute_result"
    }
   ],
   "source": [
    "regr1=LinearRegression()\n",
    "regr1.fit(x_poly,y)"
   ]
  },
  {
   "cell_type": "code",
   "execution_count": 20,
   "metadata": {},
   "outputs": [
    {
     "data": {
      "text/plain": [
       "array([[16.25396714],\n",
       "       [15.79949677],\n",
       "       [19.07035473],\n",
       "       [16.4416205 ],\n",
       "       [15.96034222],\n",
       "       [16.38977326],\n",
       "       [19.77034957],\n",
       "       [18.87402424],\n",
       "       [18.94578022],\n",
       "       [15.84037365],\n",
       "       [16.65714886],\n",
       "       [18.29637773],\n",
       "       [19.12819244],\n",
       "       [19.59660848],\n",
       "       [17.7158756 ],\n",
       "       [15.87242681],\n",
       "       [15.79720384],\n",
       "       [15.73691236],\n",
       "       [19.54125929],\n",
       "       [17.36628743],\n",
       "       [15.72011173],\n",
       "       [15.95324141],\n",
       "       [16.00528291],\n",
       "       [19.15392791],\n",
       "       [15.70662124],\n",
       "       [15.75973233],\n",
       "       [16.29322931],\n",
       "       [17.39821524],\n",
       "       [16.20235855],\n",
       "       [17.8317843 ],\n",
       "       [16.76470766],\n",
       "       [18.3385319 ],\n",
       "       [17.06231578],\n",
       "       [19.26672379],\n",
       "       [17.61865264],\n",
       "       [19.45064816],\n",
       "       [19.47529514],\n",
       "       [18.05735471],\n",
       "       [19.29622166],\n",
       "       [19.22042655],\n",
       "       [18.29327639],\n",
       "       [19.69560618],\n",
       "       [18.65519944],\n",
       "       [18.64679651],\n",
       "       [16.46578655],\n",
       "       [17.12376873],\n",
       "       [15.80671415],\n",
       "       [18.88987136],\n",
       "       [19.2795767 ],\n",
       "       [19.76209158],\n",
       "       [17.6547874 ],\n",
       "       [18.56947128],\n",
       "       [19.72629584],\n",
       "       [19.19790973],\n",
       "       [15.89001633],\n",
       "       [18.43072961],\n",
       "       [15.74767042],\n",
       "       [15.98093089],\n",
       "       [16.32648889],\n",
       "       [15.72543088],\n",
       "       [17.13158152],\n",
       "       [18.41700516],\n",
       "       [15.71331521],\n",
       "       [19.74314444],\n",
       "       [16.75860315],\n",
       "       [18.91872807],\n",
       "       [18.6452401 ],\n",
       "       [19.22630294],\n",
       "       [19.30527502],\n",
       "       [16.49448998],\n",
       "       [17.19588254],\n",
       "       [18.25492089],\n",
       "       [19.12826686],\n",
       "       [18.50804183],\n",
       "       [17.30172938],\n",
       "       [19.20611195],\n",
       "       [15.85526906],\n",
       "       [15.73912211],\n",
       "       [19.56804832],\n",
       "       [15.78604161],\n",
       "       [16.23758195],\n",
       "       [16.88419522],\n",
       "       [17.19475556],\n",
       "       [15.70670367],\n",
       "       [19.070137  ],\n",
       "       [18.38018715],\n",
       "       [15.69939751],\n",
       "       [19.49150479],\n",
       "       [17.32116623],\n",
       "       [19.1672578 ],\n",
       "       [17.75986969],\n",
       "       [18.06168541],\n",
       "       [18.00212502],\n",
       "       [16.02367992],\n",
       "       [17.61197047],\n",
       "       [17.37300826],\n",
       "       [19.29837578],\n",
       "       [15.82761551],\n",
       "       [17.60221757],\n",
       "       [17.83154003]])"
      ]
     },
     "execution_count": 20,
     "metadata": {},
     "output_type": "execute_result"
    }
   ],
   "source": [
    "pred1=regr1.predict(x_poly)\n",
    "pred1"
   ]
  },
  {
   "cell_type": "code",
   "execution_count": 26,
   "metadata": {},
   "outputs": [
    {
     "data": {
      "image/png": "[encoded data removed]",
      "text/plain": [
       "<Figure size 720x360 with 1 Axes>"
      ]
     },
     "metadata": {
      "needs_background": "light"
     },
     "output_type": "display_data"
    }
   ],
   "source": [
    "sorted_zip=sorted(zip(x,pred1))\n",
    "x_poly1, poly_pred = zip(*sorted_zip)\n",
    "plt.figure(figsize=(10,5))\n",
    "plt.scatter(x,y,s=15)\n",
    "plt.plot(x_poly1,poly_pred,color='yellow')\n",
    "plt.show()"
   ]
  }
 ],
 "metadata": {
  "kernelspec": {
   "display_name": "Python 3",
   "language": "python",
   "name": "python3"
  },
  "language_info": {
   "codemirror_mode": {
    "name": "ipython",
    "version": 3
   },
   "file_extension": ".py",
   "mimetype": "text/x-python",
   "name": "python",
   "nbconvert_exporter": "python",
   "pygments_lexer": "ipython3",
   "version": "3.8.3"
  }
 },
 "nbformat": 4,
 "nbformat_minor": 4
}
